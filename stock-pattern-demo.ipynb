{
 "cells": [
  {
   "cell_type": "code",
   "execution_count": 57,
   "source": [
    "import warnings\r\n",
    "import FinanceDataReader as fdr\r\n",
    "import matplotlib.pyplot as plt\r\n",
    "from matplotlib.figure import Figure\r\n",
    "import pandas as pd\r\n",
    "import numpy as np\r\n",
    "\r\n",
    "warnings.filterwarnings('ignore')"
   ],
   "outputs": [],
   "metadata": {}
  },
  {
   "cell_type": "code",
   "execution_count": 2,
   "source": [
    "# finance datareader로부터 데이터 불러오기\r\n",
    "data = fdr.DataReader('KS11')\r\n",
    "data"
   ],
   "outputs": [
    {
     "output_type": "execute_result",
     "data": {
      "text/html": [
       "<div>\n",
       "<style scoped>\n",
       "    .dataframe tbody tr th:only-of-type {\n",
       "        vertical-align: middle;\n",
       "    }\n",
       "\n",
       "    .dataframe tbody tr th {\n",
       "        vertical-align: top;\n",
       "    }\n",
       "\n",
       "    .dataframe thead th {\n",
       "        text-align: right;\n",
       "    }\n",
       "</style>\n",
       "<table border=\"1\" class=\"dataframe\">\n",
       "  <thead>\n",
       "    <tr style=\"text-align: right;\">\n",
       "      <th></th>\n",
       "      <th>Close</th>\n",
       "      <th>Open</th>\n",
       "      <th>High</th>\n",
       "      <th>Low</th>\n",
       "      <th>Volume</th>\n",
       "      <th>Change</th>\n",
       "    </tr>\n",
       "    <tr>\n",
       "      <th>Date</th>\n",
       "      <th></th>\n",
       "      <th></th>\n",
       "      <th></th>\n",
       "      <th></th>\n",
       "      <th></th>\n",
       "      <th></th>\n",
       "    </tr>\n",
       "  </thead>\n",
       "  <tbody>\n",
       "    <tr>\n",
       "      <th>1981-05-01</th>\n",
       "      <td>123.60</td>\n",
       "      <td>123.60</td>\n",
       "      <td>123.60</td>\n",
       "      <td>123.60</td>\n",
       "      <td>3330000.0</td>\n",
       "      <td>0.0098</td>\n",
       "    </tr>\n",
       "    <tr>\n",
       "      <th>1981-05-02</th>\n",
       "      <td>123.50</td>\n",
       "      <td>123.50</td>\n",
       "      <td>123.50</td>\n",
       "      <td>123.50</td>\n",
       "      <td>2040000.0</td>\n",
       "      <td>-0.0008</td>\n",
       "    </tr>\n",
       "    <tr>\n",
       "      <th>1981-05-04</th>\n",
       "      <td>120.60</td>\n",
       "      <td>120.60</td>\n",
       "      <td>120.60</td>\n",
       "      <td>120.60</td>\n",
       "      <td>1930000.0</td>\n",
       "      <td>-0.0235</td>\n",
       "    </tr>\n",
       "    <tr>\n",
       "      <th>1981-05-06</th>\n",
       "      <td>120.70</td>\n",
       "      <td>120.70</td>\n",
       "      <td>120.70</td>\n",
       "      <td>120.70</td>\n",
       "      <td>1690000.0</td>\n",
       "      <td>0.0008</td>\n",
       "    </tr>\n",
       "    <tr>\n",
       "      <th>1981-05-07</th>\n",
       "      <td>119.30</td>\n",
       "      <td>119.30</td>\n",
       "      <td>119.30</td>\n",
       "      <td>119.30</td>\n",
       "      <td>1480000.0</td>\n",
       "      <td>-0.0116</td>\n",
       "    </tr>\n",
       "    <tr>\n",
       "      <th>...</th>\n",
       "      <td>...</td>\n",
       "      <td>...</td>\n",
       "      <td>...</td>\n",
       "      <td>...</td>\n",
       "      <td>...</td>\n",
       "      <td>...</td>\n",
       "    </tr>\n",
       "    <tr>\n",
       "      <th>2021-09-27</th>\n",
       "      <td>3133.64</td>\n",
       "      <td>3121.70</td>\n",
       "      <td>3146.35</td>\n",
       "      <td>3119.26</td>\n",
       "      <td>883230000.0</td>\n",
       "      <td>0.0027</td>\n",
       "    </tr>\n",
       "    <tr>\n",
       "      <th>2021-09-28</th>\n",
       "      <td>3097.92</td>\n",
       "      <td>3133.40</td>\n",
       "      <td>3134.46</td>\n",
       "      <td>3095.72</td>\n",
       "      <td>894910000.0</td>\n",
       "      <td>-0.0114</td>\n",
       "    </tr>\n",
       "    <tr>\n",
       "      <th>2021-09-29</th>\n",
       "      <td>3060.27</td>\n",
       "      <td>3055.50</td>\n",
       "      <td>3069.04</td>\n",
       "      <td>3030.60</td>\n",
       "      <td>821560000.0</td>\n",
       "      <td>-0.0122</td>\n",
       "    </tr>\n",
       "    <tr>\n",
       "      <th>2021-09-30</th>\n",
       "      <td>3068.82</td>\n",
       "      <td>3054.87</td>\n",
       "      <td>3079.43</td>\n",
       "      <td>3046.43</td>\n",
       "      <td>885820000.0</td>\n",
       "      <td>0.0028</td>\n",
       "    </tr>\n",
       "    <tr>\n",
       "      <th>2021-10-01</th>\n",
       "      <td>3019.18</td>\n",
       "      <td>3056.21</td>\n",
       "      <td>3062.60</td>\n",
       "      <td>3015.01</td>\n",
       "      <td>855480000.0</td>\n",
       "      <td>-0.0162</td>\n",
       "    </tr>\n",
       "  </tbody>\n",
       "</table>\n",
       "<p>10798 rows × 6 columns</p>\n",
       "</div>"
      ],
      "text/plain": [
       "              Close     Open     High      Low       Volume  Change\n",
       "Date                                                               \n",
       "1981-05-01   123.60   123.60   123.60   123.60    3330000.0  0.0098\n",
       "1981-05-02   123.50   123.50   123.50   123.50    2040000.0 -0.0008\n",
       "1981-05-04   120.60   120.60   120.60   120.60    1930000.0 -0.0235\n",
       "1981-05-06   120.70   120.70   120.70   120.70    1690000.0  0.0008\n",
       "1981-05-07   119.30   119.30   119.30   119.30    1480000.0 -0.0116\n",
       "...             ...      ...      ...      ...          ...     ...\n",
       "2021-09-27  3133.64  3121.70  3146.35  3119.26  883230000.0  0.0027\n",
       "2021-09-28  3097.92  3133.40  3134.46  3095.72  894910000.0 -0.0114\n",
       "2021-09-29  3060.27  3055.50  3069.04  3030.60  821560000.0 -0.0122\n",
       "2021-09-30  3068.82  3054.87  3079.43  3046.43  885820000.0  0.0028\n",
       "2021-10-01  3019.18  3056.21  3062.60  3015.01  855480000.0 -0.0162\n",
       "\n",
       "[10798 rows x 6 columns]"
      ]
     },
     "metadata": {},
     "execution_count": 2
    }
   ],
   "metadata": {}
  },
  {
   "cell_type": "code",
   "execution_count": 3,
   "source": [
    "# 종가만 추출\r\n",
    "close = data['Close']\r\n",
    "\r\n",
    "# 비교 기준 구간\r\n",
    "start_date = '2021-09-01'\r\n",
    "end_date = '2021-09-16'"
   ],
   "outputs": [],
   "metadata": {}
  },
  {
   "cell_type": "code",
   "execution_count": 4,
   "source": [
    "# 기준 구간 시계열 차트\r\n",
    "close[start_date:end_date].plot();"
   ],
   "outputs": [
    {
     "output_type": "display_data",
     "data": {
      "image/png": "[encoded data removed]",
      "text/plain": [
       "<Figure size 432x288 with 1 Axes>"
      ]
     },
     "metadata": {
      "needs_background": "light"
     }
    }
   ],
   "metadata": {}
  },
  {
   "cell_type": "code",
   "execution_count": 5,
   "source": [
    "base = close[start_date:end_date]\r\n",
    "base"
   ],
   "outputs": [
    {
     "output_type": "execute_result",
     "data": {
      "text/plain": [
       "Date\n",
       "2021-09-01    3207.02\n",
       "2021-09-02    3175.85\n",
       "2021-09-03    3201.06\n",
       "2021-09-06    3203.33\n",
       "2021-09-07    3187.42\n",
       "2021-09-08    3162.99\n",
       "2021-09-09    3114.70\n",
       "2021-09-10    3125.76\n",
       "2021-09-13    3127.86\n",
       "2021-09-14    3148.83\n",
       "2021-09-15    3153.40\n",
       "2021-09-16    3130.09\n",
       "Name: Close, dtype: float64"
      ]
     },
     "metadata": {},
     "execution_count": 5
    }
   ],
   "metadata": {}
  },
  {
   "cell_type": "code",
   "execution_count": 6,
   "source": [
    "base_norm = (base - base.min()) / (base.max() - base.min())\r\n",
    "base_norm"
   ],
   "outputs": [
    {
     "output_type": "execute_result",
     "data": {
      "text/plain": [
       "Date\n",
       "2021-09-01    1.000000\n",
       "2021-09-02    0.662370\n",
       "2021-09-03    0.935442\n",
       "2021-09-06    0.960030\n",
       "2021-09-07    0.787695\n",
       "2021-09-08    0.523072\n",
       "2021-09-09    0.000000\n",
       "2021-09-10    0.119801\n",
       "2021-09-13    0.142548\n",
       "2021-09-14    0.369692\n",
       "2021-09-15    0.419194\n",
       "2021-09-16    0.166703\n",
       "Name: Close, dtype: float64"
      ]
     },
     "metadata": {},
     "execution_count": 6
    }
   ],
   "metadata": {}
  },
  {
   "cell_type": "code",
   "execution_count": 7,
   "source": [
    "# 윈도우 사이즈\r\n",
    "window_size = len(base)\r\n",
    "\r\n",
    "# 예측 기간\r\n",
    "next_date = 5\r\n",
    "\r\n",
    "# 검색 횟수\r\n",
    "moving_cnt = len(base) - window_size - next_date - 1"
   ],
   "outputs": [],
   "metadata": {}
  },
  {
   "cell_type": "code",
   "execution_count": 8,
   "source": [
    "# 유사도 저장 딕셔너리\r\n",
    "sim_list = []\r\n",
    "\r\n",
    "for i in range(moving_cnt):\r\n",
    "    target = close[i:i+window_size]\r\n",
    "    \r\n",
    "    # Normalize\r\n",
    "    target_norm = (target - target.min()) / (target.max() - target.min())\r\n",
    "    \r\n",
    "    # 코사인 유사도 저장\r\n",
    "    cos_similarity = cosine(base_norm, target_norm)\r\n",
    "    \r\n",
    "    # 코사인 유사도 <- i(인덱스), 시계열데이터 함께 저장\r\n",
    "    sim_list.append(cos_similarity)"
   ],
   "outputs": [],
   "metadata": {}
  },
  {
   "cell_type": "code",
   "execution_count": 9,
   "source": [
    "pd.Series(sim_list).sort_values().head(20)"
   ],
   "outputs": [
    {
     "output_type": "execute_result",
     "data": {
      "text/plain": [
       "Series([], dtype: float64)"
      ]
     },
     "metadata": {},
     "execution_count": 9
    }
   ],
   "metadata": {}
  },
  {
   "cell_type": "code",
   "execution_count": 10,
   "source": [
    "idx = 3193\r\n",
    "\r\n",
    "top_ = close[idx:idx+window_size+next_date]\r\n",
    "top_norm = (top_ - top_.min()) / (top_.max() - top_.min())\r\n",
    "\r\n",
    "plt.plot(base_norm.values, label='base')\r\n",
    "plt.plot(top_norm.values, label='target')\r\n",
    "plt.axvline(x=len(base_norm)-1, c='r', linestyle='--')\r\n",
    "plt.axvspan(len(base_norm.values)-1, len(top_norm.values)-1, facecolor='yellow', alpha=0.3)\r\n",
    "plt.legend()\r\n",
    "plt.show()"
   ],
   "outputs": [
    {
     "output_type": "display_data",
     "data": {
      "image/png": "[encoded data removed]",
      "text/plain": [
       "<Figure size 432x288 with 1 Axes>"
      ]
     },
     "metadata": {
      "needs_background": "light"
     }
    }
   ],
   "metadata": {}
  },
  {
   "cell_type": "code",
   "execution_count": 51,
   "source": [
    "class PatternFinder():\r\n",
    "    def __init__(self, period=5):\r\n",
    "        self.period = period\r\n",
    "    \r\n",
    "    def set_stock(self, code: str):\r\n",
    "        self.code = code\r\n",
    "        self.data = fdr.DataReader(code)\r\n",
    "        self.close = self.data['Close']\r\n",
    "        self.change = self.data['Change']\r\n",
    "        return self.data\r\n",
    "        \r\n",
    "    def search(self, start_date, end_date, threshold=0.98):\r\n",
    "        base = self.close[start_date:end_date]\r\n",
    "        self.base_norm = (base - base.min()) / (base.max() - base.min())\r\n",
    "        self.base = base\r\n",
    "        \r\n",
    "        display(base)\r\n",
    "        \r\n",
    "        window_size = len(base)\r\n",
    "        moving_cnt = len(self.data) - window_size - self.period - 1\r\n",
    "        cos_sims = self.__cosine_sims(moving_cnt, window_size)\r\n",
    "        \r\n",
    "        self.window_size = window_size\r\n",
    "        cos_sims = cos_sims[cos_sims > threshold]\r\n",
    "        return cos_sims\r\n",
    "    \r\n",
    "    \r\n",
    "    def __cosine_sims(self, moving_cnt, window_size):\r\n",
    "        def cosine_similarity(x, y):\r\n",
    "            return np.dot(x, y) / (np.sqrt(np.dot(x, x)) * np.sqrt(np.dot(y, y)))\r\n",
    "        \r\n",
    "        # 유사도 저장 딕셔너리\r\n",
    "        sim_list = []\r\n",
    "\r\n",
    "        for i in range(moving_cnt):\r\n",
    "            target = self.close[i:i+window_size]\r\n",
    "\r\n",
    "            # Normalize\r\n",
    "            target_norm = (target - target.min()) / (target.max() - target.min())\r\n",
    "\r\n",
    "            # 코사인 유사도 저장\r\n",
    "            cos_similarity = cosine_similarity(self.base_norm, target_norm)\r\n",
    "\r\n",
    "            # 코사인 유사도 <- i(인덱스), 시계열데이터 함께 저장\r\n",
    "            sim_list.append(cos_similarity)\r\n",
    "        return pd.Series(sim_list).sort_values(ascending=False)\r\n",
    "\r\n",
    "    \r\n",
    "    def plot_pattern(self, idx, period=5):\r\n",
    "        if period != self.period:\r\n",
    "            self.period = period\r\n",
    "            \r\n",
    "        top = self.close[idx:idx+self.window_size+period]\r\n",
    "        top_norm = (top - top.min()) / (top.max() - top.min())\r\n",
    "\r\n",
    "        plt.plot(self.base_norm.values, label='base')\r\n",
    "        plt.plot(top_norm.values, label='target')\r\n",
    "        plt.axvline(x=len(self.base_norm)-1, c='r', linestyle='--')\r\n",
    "        plt.axvspan(len(self.base_norm.values)-1, len(top_norm.values)-1, facecolor='yellow', alpha=0.3)\r\n",
    "        plt.legend()\r\n",
    "        plt.show()\r\n",
    "        \r\n",
    "        \r\n",
    "        preds = self.change[idx+self.window_size: idx+self.window_size+period]\r\n",
    "        display(preds)\r\n",
    "        print(f'pred: {preds.mean()*100} % ')\r\n",
    "\r\n",
    "    \r\n",
    "    def stat_prediction(self, result, period=5):\r\n",
    "        idx_list = list(result.keys())\r\n",
    "        mean_list = []\r\n",
    "        for idx in idx_list:\r\n",
    "            pred = self.change[idx+self.window_size: idx+self.window_size+period]\r\n",
    "            mean_list.append(pred.mean())\r\n",
    "        return np.array(mean_list)"
   ],
   "outputs": [],
   "metadata": {}
  },
  {
   "cell_type": "code",
   "execution_count": 52,
   "source": [
    "p = PatternFinder()"
   ],
   "outputs": [],
   "metadata": {}
  },
  {
   "cell_type": "code",
   "execution_count": 53,
   "source": [
    "p.set_stock('018700')"
   ],
   "outputs": [
    {
     "output_type": "execute_result",
     "data": {
      "text/html": [
       "<div>\n",
       "<style scoped>\n",
       "    .dataframe tbody tr th:only-of-type {\n",
       "        vertical-align: middle;\n",
       "    }\n",
       "\n",
       "    .dataframe tbody tr th {\n",
       "        vertical-align: top;\n",
       "    }\n",
       "\n",
       "    .dataframe thead th {\n",
       "        text-align: right;\n",
       "    }\n",
       "</style>\n",
       "<table border=\"1\" class=\"dataframe\">\n",
       "  <thead>\n",
       "    <tr style=\"text-align: right;\">\n",
       "      <th></th>\n",
       "      <th>Open</th>\n",
       "      <th>High</th>\n",
       "      <th>Low</th>\n",
       "      <th>Close</th>\n",
       "      <th>Volume</th>\n",
       "      <th>Change</th>\n",
       "    </tr>\n",
       "    <tr>\n",
       "      <th>Date</th>\n",
       "      <th></th>\n",
       "      <th></th>\n",
       "      <th></th>\n",
       "      <th></th>\n",
       "      <th></th>\n",
       "      <th></th>\n",
       "    </tr>\n",
       "  </thead>\n",
       "  <tbody>\n",
       "    <tr>\n",
       "      <th>1997-09-09</th>\n",
       "      <td>141661</td>\n",
       "      <td>141661</td>\n",
       "      <td>141661</td>\n",
       "      <td>141662</td>\n",
       "      <td>0</td>\n",
       "      <td>NaN</td>\n",
       "    </tr>\n",
       "    <tr>\n",
       "      <th>1997-09-10</th>\n",
       "      <td>132231</td>\n",
       "      <td>132231</td>\n",
       "      <td>132231</td>\n",
       "      <td>132235</td>\n",
       "      <td>0</td>\n",
       "      <td>-0.066546</td>\n",
       "    </tr>\n",
       "    <tr>\n",
       "      <th>1997-09-11</th>\n",
       "      <td>142618</td>\n",
       "      <td>142618</td>\n",
       "      <td>125623</td>\n",
       "      <td>125610</td>\n",
       "      <td>1010</td>\n",
       "      <td>-0.050100</td>\n",
       "    </tr>\n",
       "    <tr>\n",
       "      <th>1997-09-12</th>\n",
       "      <td>135048</td>\n",
       "      <td>135048</td>\n",
       "      <td>120882</td>\n",
       "      <td>120882</td>\n",
       "      <td>1010</td>\n",
       "      <td>-0.037640</td>\n",
       "    </tr>\n",
       "    <tr>\n",
       "      <th>1997-09-13</th>\n",
       "      <td>130328</td>\n",
       "      <td>130328</td>\n",
       "      <td>123726</td>\n",
       "      <td>123713</td>\n",
       "      <td>1010</td>\n",
       "      <td>0.023420</td>\n",
       "    </tr>\n",
       "    <tr>\n",
       "      <th>...</th>\n",
       "      <td>...</td>\n",
       "      <td>...</td>\n",
       "      <td>...</td>\n",
       "      <td>...</td>\n",
       "      <td>...</td>\n",
       "      <td>...</td>\n",
       "    </tr>\n",
       "    <tr>\n",
       "      <th>2021-09-27</th>\n",
       "      <td>2925</td>\n",
       "      <td>3080</td>\n",
       "      <td>2860</td>\n",
       "      <td>2955</td>\n",
       "      <td>2126291</td>\n",
       "      <td>0.026042</td>\n",
       "    </tr>\n",
       "    <tr>\n",
       "      <th>2021-09-28</th>\n",
       "      <td>2915</td>\n",
       "      <td>3150</td>\n",
       "      <td>2910</td>\n",
       "      <td>2995</td>\n",
       "      <td>2982253</td>\n",
       "      <td>0.013536</td>\n",
       "    </tr>\n",
       "    <tr>\n",
       "      <th>2021-09-29</th>\n",
       "      <td>2900</td>\n",
       "      <td>3035</td>\n",
       "      <td>2845</td>\n",
       "      <td>2975</td>\n",
       "      <td>787362</td>\n",
       "      <td>-0.006678</td>\n",
       "    </tr>\n",
       "    <tr>\n",
       "      <th>2021-09-30</th>\n",
       "      <td>3035</td>\n",
       "      <td>3130</td>\n",
       "      <td>2965</td>\n",
       "      <td>3020</td>\n",
       "      <td>1159050</td>\n",
       "      <td>0.015126</td>\n",
       "    </tr>\n",
       "    <tr>\n",
       "      <th>2021-10-01</th>\n",
       "      <td>3130</td>\n",
       "      <td>3925</td>\n",
       "      <td>3080</td>\n",
       "      <td>3925</td>\n",
       "      <td>41315468</td>\n",
       "      <td>0.299669</td>\n",
       "    </tr>\n",
       "  </tbody>\n",
       "</table>\n",
       "<p>6000 rows × 6 columns</p>\n",
       "</div>"
      ],
      "text/plain": [
       "              Open    High     Low   Close    Volume    Change\n",
       "Date                                                          \n",
       "1997-09-09  141661  141661  141661  141662         0       NaN\n",
       "1997-09-10  132231  132231  132231  132235         0 -0.066546\n",
       "1997-09-11  142618  142618  125623  125610      1010 -0.050100\n",
       "1997-09-12  135048  135048  120882  120882      1010 -0.037640\n",
       "1997-09-13  130328  130328  123726  123713      1010  0.023420\n",
       "...            ...     ...     ...     ...       ...       ...\n",
       "2021-09-27    2925    3080    2860    2955   2126291  0.026042\n",
       "2021-09-28    2915    3150    2910    2995   2982253  0.013536\n",
       "2021-09-29    2900    3035    2845    2975    787362 -0.006678\n",
       "2021-09-30    3035    3130    2965    3020   1159050  0.015126\n",
       "2021-10-01    3130    3925    3080    3925  41315468  0.299669\n",
       "\n",
       "[6000 rows x 6 columns]"
      ]
     },
     "metadata": {},
     "execution_count": 53
    }
   ],
   "metadata": {}
  },
  {
   "cell_type": "code",
   "execution_count": 54,
   "source": [
    "result = p.search('2021-09-10', '2021-09-30')"
   ],
   "outputs": [
    {
     "output_type": "display_data",
     "data": {
      "text/plain": [
       "Date\n",
       "2021-09-10    2625\n",
       "2021-09-13    2620\n",
       "2021-09-14    2630\n",
       "2021-09-15    2625\n",
       "2021-09-16    2635\n",
       "2021-09-17    2635\n",
       "2021-09-23    2920\n",
       "2021-09-24    2880\n",
       "2021-09-27    2955\n",
       "2021-09-28    2995\n",
       "2021-09-29    2975\n",
       "2021-09-30    3020\n",
       "Name: Close, dtype: int64"
      ]
     },
     "metadata": {}
    }
   ],
   "metadata": {}
  },
  {
   "cell_type": "code",
   "execution_count": 59,
   "source": [
    "pred = p.stat_prediction(result)\r\n",
    "pred"
   ],
   "outputs": [
    {
     "output_type": "execute_result",
     "data": {
      "text/plain": [
       "array([-0.01124373,  0.00517852,  0.        ,  0.        , -0.01440996,\n",
       "        0.00531945,  0.03402142,  0.00472001, -0.02052574,  0.00670564,\n",
       "        0.09559623])"
      ]
     },
     "metadata": {},
     "execution_count": 59
    }
   ],
   "metadata": {}
  },
  {
   "cell_type": "code",
   "execution_count": 60,
   "source": [
    "p.plot_pattern(2138)"
   ],
   "outputs": [
    {
     "output_type": "display_data",
     "data": {
      "text/plain": [
       "Date\n",
       "2006-03-07    0.040917\n",
       "2006-03-08   -0.050551\n",
       "2006-03-09    0.017761\n",
       "2006-03-10   -0.058170\n",
       "2006-03-13   -0.006176\n",
       "Name: Change, dtype: float64"
      ]
     },
     "metadata": {}
    },
    {
     "output_type": "stream",
     "name": "stdout",
     "text": [
      "pred: -1.1243734433432984 % \n"
     ]
    }
   ],
   "metadata": {}
  },
  {
   "cell_type": "markdown",
   "source": [
    "## 웹으로 만들기"
   ],
   "metadata": {}
  },
  {
   "cell_type": "code",
   "execution_count": 16,
   "source": [
    "import ipywidgets as widgets\r\n",
    "from IPython.display import display, clear_output\r\n",
    "\r\n",
    "# !jupyter nbextension enable --py widgetsnbextension --sys-prefix\r\n",
    "# !jupyter serverextension enable voila --sys-prefix"
   ],
   "outputs": [],
   "metadata": {}
  },
  {
   "cell_type": "code",
   "execution_count": 17,
   "source": [
    "start_date = widgets.DatePicker(description='시작일')\r\n",
    "end_date = widgets.DatePicker(description='종료일')"
   ],
   "outputs": [],
   "metadata": {}
  },
  {
   "cell_type": "code",
   "execution_count": 18,
   "source": [
    "# button send\r\n",
    "search_button = widgets.Button(\r\n",
    "                description='예측하기',\r\n",
    "                tooltip='Send',\r\n",
    "                style={'description_width': 'initial'}\r\n",
    "            )\r\n",
    "\r\n",
    "output = widgets.Output()\r\n",
    "\r\n",
    "def on_button_clicked(event):\r\n",
    "    with output:\r\n",
    "        clear_output()\r\n",
    "        p = PatternFinder()\r\n",
    "        p.set_stock(code.value)\r\n",
    "        result = p.search(start_date.value.strftime('%Y-%m-%d'), end_date.value.strftime('%Y-%m-%d'))\r\n",
    "        print(result)\r\n",
    "        for idx in result.keys():\r\n",
    "            p.plot_pattern(idx)\r\n",
    "        \r\n",
    "search_button.on_click(on_button_clicked)\r\n",
    "\r\n",
    "vbox_result = widgets.VBox([search_button, output])"
   ],
   "outputs": [],
   "metadata": {}
  },
  {
   "cell_type": "code",
   "execution_count": 19,
   "source": [
    "label_headline = widgets.Label(\r\n",
    "                    value='Photo by CDC on Unsplash',\r\n",
    "                )\r\n",
    "\r\n",
    "vbox_headline = widgets.VBox([label_headline])"
   ],
   "outputs": [],
   "metadata": {}
  },
  {
   "cell_type": "code",
   "execution_count": 20,
   "source": [
    "text_0 = widgets.HTML(value=\"<h2>종목 코드</h2>\")\r\n",
    "text_1 = widgets.HTML(value=\"<h2>날짜 선택</h2>\")\r\n",
    "text_2 = widgets.HTML(value=\"<h2>패턴 예측</h2>\")\r\n",
    "\r\n",
    "code = widgets.Text(placeholder='종목코드를 입력해 주세요')\r\n",
    "code.value = '035720'\r\n",
    "\r\n",
    "vbox_0 = widgets.VBox([text_0, code])\r\n",
    "vbox_1 = widgets.VBox([text_1,start_date, end_date ])\r\n",
    "vbox_2 = widgets.VBox([text_2, vbox_result])"
   ],
   "outputs": [],
   "metadata": {}
  },
  {
   "cell_type": "code",
   "execution_count": 21,
   "source": [
    "page = widgets.VBox([vbox_0, vbox_1 , vbox_2])\r\n",
    "display(page)"
   ],
   "outputs": [
    {
     "output_type": "display_data",
     "data": {
      "application/vnd.jupyter.widget-view+json": {
       "version_major": 2,
       "version_minor": 0,
       "model_id": "7ab15e22cbfb46f48f56e5c8877a7c73"
      },
      "text/plain": [
       "VBox(children=(VBox(children=(HTML(value='<h2>종목 코드</h2>'), Text(value='035720', placeholder='종목코드를 입력해 주세요'))…"
      ]
     },
     "metadata": {}
    }
   ],
   "metadata": {}
  },
  {
   "cell_type": "code",
   "execution_count": null,
   "source": [],
   "outputs": [],
   "metadata": {}
  },
  {
   "cell_type": "code",
   "execution_count": null,
   "source": [],
   "outputs": [],
   "metadata": {}
  }
 ],
 "metadata": {
  "kernelspec": {
   "name": "python3",
   "display_name": "Python 3.7.11 64-bit ('stock-pattern': conda)"
  },
  "language_info": {
   "codemirror_mode": {
    "name": "ipython",
    "version": 3
   },
   "file_extension": ".py",
   "mimetype": "text/x-python",
   "name": "python",
   "nbconvert_exporter": "python",
   "pygments_lexer": "ipython3",
   "version": "3.7.11"
  },
  "interpreter": {
   "hash": "6494861ce0a9247699d4b666f0b06cd8da3baab5a92264a9fe7e94a414e538ea"
  }
 },
 "nbformat": 4,
 "nbformat_minor": 5
}