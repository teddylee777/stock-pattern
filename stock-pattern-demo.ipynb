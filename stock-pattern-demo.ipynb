{
 "cells": [
  {
   "cell_type": "code",
   "execution_count": 1,
   "id": "7076ed2f",
   "metadata": {},
   "outputs": [],
   "source": [
    "import warnings\n",
    "\n",
    "warnings.filterwarnings('ignore')"
   ]
  },
  {
   "cell_type": "code",
   "execution_count": 3,
   "id": "83e70767",
   "metadata": {},
   "outputs": [],
   "source": [
    "import FinanceDataReader as fdr\n",
    "import matplotlib.pyplot as plt\n",
    "import pandas as pd\n",
    "import numpy as np"
   ]
  },
  {
   "cell_type": "code",
   "execution_count": 4,
   "id": "edf30ab6",
   "metadata": {},
   "outputs": [
    {
     "data": {
      "text/html": [
       "<div>\n",
       "<style scoped>\n",
       "    .dataframe tbody tr th:only-of-type {\n",
       "        vertical-align: middle;\n",
       "    }\n",
       "\n",
       "    .dataframe tbody tr th {\n",
       "        vertical-align: top;\n",
       "    }\n",
       "\n",
       "    .dataframe thead th {\n",
       "        text-align: right;\n",
       "    }\n",
       "</style>\n",
       "<table border=\"1\" class=\"dataframe\">\n",
       "  <thead>\n",
       "    <tr style=\"text-align: right;\">\n",
       "      <th></th>\n",
       "      <th>Close</th>\n",
       "      <th>Open</th>\n",
       "      <th>High</th>\n",
       "      <th>Low</th>\n",
       "      <th>Volume</th>\n",
       "      <th>Change</th>\n",
       "    </tr>\n",
       "    <tr>\n",
       "      <th>Date</th>\n",
       "      <th></th>\n",
       "      <th></th>\n",
       "      <th></th>\n",
       "      <th></th>\n",
       "      <th></th>\n",
       "      <th></th>\n",
       "    </tr>\n",
       "  </thead>\n",
       "  <tbody>\n",
       "    <tr>\n",
       "      <th>1981-05-01</th>\n",
       "      <td>123.60</td>\n",
       "      <td>123.60</td>\n",
       "      <td>123.60</td>\n",
       "      <td>123.60</td>\n",
       "      <td>3330000.0</td>\n",
       "      <td>0.0098</td>\n",
       "    </tr>\n",
       "    <tr>\n",
       "      <th>1981-05-02</th>\n",
       "      <td>123.50</td>\n",
       "      <td>123.50</td>\n",
       "      <td>123.50</td>\n",
       "      <td>123.50</td>\n",
       "      <td>2040000.0</td>\n",
       "      <td>-0.0008</td>\n",
       "    </tr>\n",
       "    <tr>\n",
       "      <th>1981-05-04</th>\n",
       "      <td>120.60</td>\n",
       "      <td>120.60</td>\n",
       "      <td>120.60</td>\n",
       "      <td>120.60</td>\n",
       "      <td>1930000.0</td>\n",
       "      <td>-0.0235</td>\n",
       "    </tr>\n",
       "    <tr>\n",
       "      <th>1981-05-06</th>\n",
       "      <td>120.70</td>\n",
       "      <td>120.70</td>\n",
       "      <td>120.70</td>\n",
       "      <td>120.70</td>\n",
       "      <td>1690000.0</td>\n",
       "      <td>0.0008</td>\n",
       "    </tr>\n",
       "    <tr>\n",
       "      <th>1981-05-07</th>\n",
       "      <td>119.30</td>\n",
       "      <td>119.30</td>\n",
       "      <td>119.30</td>\n",
       "      <td>119.30</td>\n",
       "      <td>1480000.0</td>\n",
       "      <td>-0.0116</td>\n",
       "    </tr>\n",
       "    <tr>\n",
       "      <th>...</th>\n",
       "      <td>...</td>\n",
       "      <td>...</td>\n",
       "      <td>...</td>\n",
       "      <td>...</td>\n",
       "      <td>...</td>\n",
       "      <td>...</td>\n",
       "    </tr>\n",
       "    <tr>\n",
       "      <th>2021-09-27</th>\n",
       "      <td>3133.64</td>\n",
       "      <td>3121.70</td>\n",
       "      <td>3146.35</td>\n",
       "      <td>3119.26</td>\n",
       "      <td>883230000.0</td>\n",
       "      <td>0.0027</td>\n",
       "    </tr>\n",
       "    <tr>\n",
       "      <th>2021-09-28</th>\n",
       "      <td>3097.92</td>\n",
       "      <td>3133.40</td>\n",
       "      <td>3134.46</td>\n",
       "      <td>3095.72</td>\n",
       "      <td>894910000.0</td>\n",
       "      <td>-0.0114</td>\n",
       "    </tr>\n",
       "    <tr>\n",
       "      <th>2021-09-29</th>\n",
       "      <td>3060.27</td>\n",
       "      <td>3055.50</td>\n",
       "      <td>3069.04</td>\n",
       "      <td>3030.60</td>\n",
       "      <td>821560000.0</td>\n",
       "      <td>-0.0122</td>\n",
       "    </tr>\n",
       "    <tr>\n",
       "      <th>2021-09-30</th>\n",
       "      <td>3068.82</td>\n",
       "      <td>3054.87</td>\n",
       "      <td>3079.43</td>\n",
       "      <td>3046.43</td>\n",
       "      <td>885820000.0</td>\n",
       "      <td>0.0028</td>\n",
       "    </tr>\n",
       "    <tr>\n",
       "      <th>2021-10-01</th>\n",
       "      <td>3019.18</td>\n",
       "      <td>3056.21</td>\n",
       "      <td>3062.60</td>\n",
       "      <td>3015.01</td>\n",
       "      <td>855480000.0</td>\n",
       "      <td>-0.0162</td>\n",
       "    </tr>\n",
       "  </tbody>\n",
       "</table>\n",
       "<p>10798 rows × 6 columns</p>\n",
       "</div>"
      ],
      "text/plain": [
       "              Close     Open     High      Low       Volume  Change\n",
       "Date                                                               \n",
       "1981-05-01   123.60   123.60   123.60   123.60    3330000.0  0.0098\n",
       "1981-05-02   123.50   123.50   123.50   123.50    2040000.0 -0.0008\n",
       "1981-05-04   120.60   120.60   120.60   120.60    1930000.0 -0.0235\n",
       "1981-05-06   120.70   120.70   120.70   120.70    1690000.0  0.0008\n",
       "1981-05-07   119.30   119.30   119.30   119.30    1480000.0 -0.0116\n",
       "...             ...      ...      ...      ...          ...     ...\n",
       "2021-09-27  3133.64  3121.70  3146.35  3119.26  883230000.0  0.0027\n",
       "2021-09-28  3097.92  3133.40  3134.46  3095.72  894910000.0 -0.0114\n",
       "2021-09-29  3060.27  3055.50  3069.04  3030.60  821560000.0 -0.0122\n",
       "2021-09-30  3068.82  3054.87  3079.43  3046.43  885820000.0  0.0028\n",
       "2021-10-01  3019.18  3056.21  3062.60  3015.01  855480000.0 -0.0162\n",
       "\n",
       "[10798 rows x 6 columns]"
      ]
     },
     "execution_count": 4,
     "metadata": {},
     "output_type": "execute_result"
    }
   ],
   "source": [
    "# finance datareader로부터 데이터 불러오기\n",
    "data = fdr.DataReader('KS11')\n",
    "data"
   ]
  },
  {
   "cell_type": "code",
   "execution_count": 7,
   "id": "0da5efbd",
   "metadata": {},
   "outputs": [],
   "source": [
    "# 종가만 추출\n",
    "close = data['Close']\n",
    "\n",
    "# 비교 기준 구간\n",
    "start_date = '2021-09-01'\n",
    "end_date = '2021-09-16'"
   ]
  },
  {
   "cell_type": "code",
   "execution_count": 8,
   "id": "392259a1",
   "metadata": {},
   "outputs": [
    {
     "data": {
      "image/png": "[encoded data removed]",
      "text/plain": [
       "<Figure size 432x288 with 1 Axes>"
      ]
     },
     "metadata": {
      "needs_background": "light"
     },
     "output_type": "display_data"
    }
   ],
   "source": [
    "# 기준 구간 시계열 차트\n",
    "close[start_date:end_date].plot();"
   ]
  },
  {
   "cell_type": "code",
   "execution_count": 9,
   "id": "4daad99d",
   "metadata": {},
   "outputs": [
    {
     "data": {
      "text/plain": [
       "Date\n",
       "2021-09-01    3207.02\n",
       "2021-09-02    3175.85\n",
       "2021-09-03    3201.06\n",
       "2021-09-06    3203.33\n",
       "2021-09-07    3187.42\n",
       "2021-09-08    3162.99\n",
       "2021-09-09    3114.70\n",
       "2021-09-10    3125.76\n",
       "2021-09-13    3127.86\n",
       "2021-09-14    3148.83\n",
       "2021-09-15    3153.40\n",
       "2021-09-16    3130.09\n",
       "Name: Close, dtype: float64"
      ]
     },
     "execution_count": 9,
     "metadata": {},
     "output_type": "execute_result"
    }
   ],
   "source": [
    "base = close[start_date:end_date]\n",
    "base"
   ]
  },
  {
   "cell_type": "code",
   "execution_count": 10,
   "id": "f990cbb2",
   "metadata": {},
   "outputs": [
    {
     "data": {
      "text/plain": [
       "Date\n",
       "2021-09-01    1.000000\n",
       "2021-09-02    0.662370\n",
       "2021-09-03    0.935442\n",
       "2021-09-06    0.960030\n",
       "2021-09-07    0.787695\n",
       "2021-09-08    0.523072\n",
       "2021-09-09    0.000000\n",
       "2021-09-10    0.119801\n",
       "2021-09-13    0.142548\n",
       "2021-09-14    0.369692\n",
       "2021-09-15    0.419194\n",
       "2021-09-16    0.166703\n",
       "Name: Close, dtype: float64"
      ]
     },
     "execution_count": 10,
     "metadata": {},
     "output_type": "execute_result"
    }
   ],
   "source": [
    "base_norm = (base - base.min()) / (base.max() - base.min())\n",
    "base_norm"
   ]
  },
  {
   "cell_type": "code",
   "execution_count": 11,
   "id": "bcd2f62a",
   "metadata": {},
   "outputs": [],
   "source": [
    "# 윈도우 사이즈\n",
    "window_size = len(base)\n",
    "\n",
    "# 예측 기간\n",
    "next_date = 5\n",
    "\n",
    "# 검색 횟수\n",
    "moving_cnt = len(base) - window_size - next_date - 1"
   ]
  },
  {
   "cell_type": "code",
   "execution_count": 12,
   "id": "df4c1a46",
   "metadata": {},
   "outputs": [],
   "source": [
    "# 유사도 저장 딕셔너리\n",
    "sim_list = []\n",
    "\n",
    "for i in range(moving_cnt):\n",
    "    target = close[i:i+window_size]\n",
    "    \n",
    "    # Normalize\n",
    "    target_norm = (target - target.min()) / (target.max() - target.min())\n",
    "    \n",
    "    # 코사인 유사도 저장\n",
    "    cos_similarity = cosine(base_norm, target_norm)\n",
    "    \n",
    "    # 코사인 유사도 <- i(인덱스), 시계열데이터 함께 저장\n",
    "    sim_list.append(cos_similarity)"
   ]
  },
  {
   "cell_type": "code",
   "execution_count": 13,
   "id": "1dac27eb",
   "metadata": {},
   "outputs": [
    {
     "data": {
      "text/plain": [
       "Series([], dtype: float64)"
      ]
     },
     "execution_count": 13,
     "metadata": {},
     "output_type": "execute_result"
    }
   ],
   "source": [
    "pd.Series(sim_list).sort_values().head(20)"
   ]
  },
  {
   "cell_type": "code",
   "execution_count": 14,
   "id": "cf81d20e",
   "metadata": {},
   "outputs": [
    {
     "data": {
      "image/png": "[encoded data removed]",
      "text/plain": [
       "<Figure size 432x288 with 1 Axes>"
      ]
     },
     "metadata": {
      "needs_background": "light"
     },
     "output_type": "display_data"
    }
   ],
   "source": [
    "idx = 3193\n",
    "\n",
    "top_ = close[idx:idx+window_size+next_date]\n",
    "top_norm = (top_ - top_.min()) / (top_.max() - top_.min())\n",
    "\n",
    "plt.plot(base_norm.values, label='base')\n",
    "plt.plot(top_norm.values, label='target')\n",
    "plt.axvline(x=len(base_norm)-1, c='r', linestyle='--')\n",
    "plt.axvspan(len(base_norm.values)-1, len(top_norm.values)-1, facecolor='yellow', alpha=0.3)\n",
    "plt.legend()\n",
    "plt.show()"
   ]
  },
  {
   "cell_type": "code",
   "execution_count": 15,
   "id": "13ef323a",
   "metadata": {},
   "outputs": [],
   "source": [
    "class PatternFinder():\n",
    "    def __init__(self, period=5):\n",
    "        self.period = period\n",
    "    \n",
    "    def set_stock(self, code: str):\n",
    "        self.code = code\n",
    "        self.data = fdr.DataReader(code)\n",
    "        self.close = self.data['Close']\n",
    "        self.change = self.data['Change']\n",
    "        return self.data\n",
    "        \n",
    "    def search(self, start_date, end_date, threshold=0.98):\n",
    "        base = self.close[start_date:end_date]\n",
    "        self.base_norm = (base - base.min()) / (base.max() - base.min())\n",
    "        self.base = base\n",
    "        \n",
    "        display(base)\n",
    "        \n",
    "        window_size = len(base)\n",
    "        moving_cnt = len(self.data) - window_size - self.period - 1\n",
    "        cos_sims = self.__cosine_sims(moving_cnt, window_size)\n",
    "        \n",
    "        self.window_size = window_size\n",
    "        cos_sims = cos_sims[cos_sims > threshold]\n",
    "        return cos_sims\n",
    "    \n",
    "    \n",
    "    def __cosine_sims(self, moving_cnt, window_size):\n",
    "        def cosine_similarity(x, y):\n",
    "            return np.dot(x, y) / (np.sqrt(np.dot(x, x)) * np.sqrt(np.dot(y, y)))\n",
    "        \n",
    "        # 유사도 저장 딕셔너리\n",
    "        sim_list = []\n",
    "\n",
    "        for i in range(moving_cnt):\n",
    "            target = self.close[i:i+window_size]\n",
    "\n",
    "            # Normalize\n",
    "            target_norm = (target - target.min()) / (target.max() - target.min())\n",
    "\n",
    "            # 코사인 유사도 저장\n",
    "            cos_similarity = cosine_similarity(self.base_norm, target_norm)\n",
    "\n",
    "            # 코사인 유사도 <- i(인덱스), 시계열데이터 함께 저장\n",
    "            sim_list.append(cos_similarity)\n",
    "        return pd.Series(sim_list).sort_values(ascending=False)\n",
    "\n",
    "    \n",
    "    def plot_pattern(self, idx, period=5):\n",
    "        if period != self.period:\n",
    "            self.period = period\n",
    "            \n",
    "        top = self.close[idx:idx+self.window_size+period]\n",
    "        top_norm = (top - top.min()) / (top.max() - top.min())\n",
    "\n",
    "        plt.plot(self.base_norm.values, label='base')\n",
    "        plt.plot(top_norm.values, label='target')\n",
    "        plt.axvline(x=len(self.base_norm)-1, c='r', linestyle='--')\n",
    "        plt.axvspan(len(self.base_norm.values)-1, len(top_norm.values)-1, facecolor='yellow', alpha=0.3)\n",
    "        plt.legend()\n",
    "        plt.show()\n",
    "        \n",
    "        preds = self.change[idx+self.window_size: idx+self.window_size+period]\n",
    "        display(preds)\n",
    "        print(f'pred: {preds.mean()*100} % ')"
   ]
  },
  {
   "cell_type": "code",
   "execution_count": 16,
   "id": "77c873b7",
   "metadata": {},
   "outputs": [],
   "source": [
    "p = PatternFinder()"
   ]
  },
  {
   "cell_type": "code",
   "execution_count": 17,
   "id": "d7866140",
   "metadata": {},
   "outputs": [
    {
     "data": {
      "text/html": [
       "<div>\n",
       "<style scoped>\n",
       "    .dataframe tbody tr th:only-of-type {\n",
       "        vertical-align: middle;\n",
       "    }\n",
       "\n",
       "    .dataframe tbody tr th {\n",
       "        vertical-align: top;\n",
       "    }\n",
       "\n",
       "    .dataframe thead th {\n",
       "        text-align: right;\n",
       "    }\n",
       "</style>\n",
       "<table border=\"1\" class=\"dataframe\">\n",
       "  <thead>\n",
       "    <tr style=\"text-align: right;\">\n",
       "      <th></th>\n",
       "      <th>Open</th>\n",
       "      <th>High</th>\n",
       "      <th>Low</th>\n",
       "      <th>Close</th>\n",
       "      <th>Volume</th>\n",
       "      <th>Change</th>\n",
       "    </tr>\n",
       "    <tr>\n",
       "      <th>Date</th>\n",
       "      <th></th>\n",
       "      <th></th>\n",
       "      <th></th>\n",
       "      <th></th>\n",
       "      <th></th>\n",
       "      <th></th>\n",
       "    </tr>\n",
       "  </thead>\n",
       "  <tbody>\n",
       "    <tr>\n",
       "      <th>1997-09-09</th>\n",
       "      <td>141661</td>\n",
       "      <td>141661</td>\n",
       "      <td>141661</td>\n",
       "      <td>141662</td>\n",
       "      <td>0</td>\n",
       "      <td>NaN</td>\n",
       "    </tr>\n",
       "    <tr>\n",
       "      <th>1997-09-10</th>\n",
       "      <td>132231</td>\n",
       "      <td>132231</td>\n",
       "      <td>132231</td>\n",
       "      <td>132235</td>\n",
       "      <td>0</td>\n",
       "      <td>-0.066546</td>\n",
       "    </tr>\n",
       "    <tr>\n",
       "      <th>1997-09-11</th>\n",
       "      <td>142618</td>\n",
       "      <td>142618</td>\n",
       "      <td>125623</td>\n",
       "      <td>125610</td>\n",
       "      <td>1010</td>\n",
       "      <td>-0.050100</td>\n",
       "    </tr>\n",
       "    <tr>\n",
       "      <th>1997-09-12</th>\n",
       "      <td>135048</td>\n",
       "      <td>135048</td>\n",
       "      <td>120882</td>\n",
       "      <td>120882</td>\n",
       "      <td>1010</td>\n",
       "      <td>-0.037640</td>\n",
       "    </tr>\n",
       "    <tr>\n",
       "      <th>1997-09-13</th>\n",
       "      <td>130328</td>\n",
       "      <td>130328</td>\n",
       "      <td>123726</td>\n",
       "      <td>123713</td>\n",
       "      <td>1010</td>\n",
       "      <td>0.023420</td>\n",
       "    </tr>\n",
       "    <tr>\n",
       "      <th>...</th>\n",
       "      <td>...</td>\n",
       "      <td>...</td>\n",
       "      <td>...</td>\n",
       "      <td>...</td>\n",
       "      <td>...</td>\n",
       "      <td>...</td>\n",
       "    </tr>\n",
       "    <tr>\n",
       "      <th>2021-09-27</th>\n",
       "      <td>2925</td>\n",
       "      <td>3080</td>\n",
       "      <td>2860</td>\n",
       "      <td>2955</td>\n",
       "      <td>2126291</td>\n",
       "      <td>0.026042</td>\n",
       "    </tr>\n",
       "    <tr>\n",
       "      <th>2021-09-28</th>\n",
       "      <td>2915</td>\n",
       "      <td>3150</td>\n",
       "      <td>2910</td>\n",
       "      <td>2995</td>\n",
       "      <td>2982253</td>\n",
       "      <td>0.013536</td>\n",
       "    </tr>\n",
       "    <tr>\n",
       "      <th>2021-09-29</th>\n",
       "      <td>2900</td>\n",
       "      <td>3035</td>\n",
       "      <td>2845</td>\n",
       "      <td>2975</td>\n",
       "      <td>787362</td>\n",
       "      <td>-0.006678</td>\n",
       "    </tr>\n",
       "    <tr>\n",
       "      <th>2021-09-30</th>\n",
       "      <td>3035</td>\n",
       "      <td>3130</td>\n",
       "      <td>2965</td>\n",
       "      <td>3020</td>\n",
       "      <td>1159050</td>\n",
       "      <td>0.015126</td>\n",
       "    </tr>\n",
       "    <tr>\n",
       "      <th>2021-10-01</th>\n",
       "      <td>3130</td>\n",
       "      <td>3925</td>\n",
       "      <td>3080</td>\n",
       "      <td>3925</td>\n",
       "      <td>41315468</td>\n",
       "      <td>0.299669</td>\n",
       "    </tr>\n",
       "  </tbody>\n",
       "</table>\n",
       "<p>6000 rows × 6 columns</p>\n",
       "</div>"
      ],
      "text/plain": [
       "              Open    High     Low   Close    Volume    Change\n",
       "Date                                                          \n",
       "1997-09-09  141661  141661  141661  141662         0       NaN\n",
       "1997-09-10  132231  132231  132231  132235         0 -0.066546\n",
       "1997-09-11  142618  142618  125623  125610      1010 -0.050100\n",
       "1997-09-12  135048  135048  120882  120882      1010 -0.037640\n",
       "1997-09-13  130328  130328  123726  123713      1010  0.023420\n",
       "...            ...     ...     ...     ...       ...       ...\n",
       "2021-09-27    2925    3080    2860    2955   2126291  0.026042\n",
       "2021-09-28    2915    3150    2910    2995   2982253  0.013536\n",
       "2021-09-29    2900    3035    2845    2975    787362 -0.006678\n",
       "2021-09-30    3035    3130    2965    3020   1159050  0.015126\n",
       "2021-10-01    3130    3925    3080    3925  41315468  0.299669\n",
       "\n",
       "[6000 rows x 6 columns]"
      ]
     },
     "execution_count": 17,
     "metadata": {},
     "output_type": "execute_result"
    }
   ],
   "source": [
    "p.set_stock('018700')"
   ]
  },
  {
   "cell_type": "code",
   "execution_count": 18,
   "id": "56ef9746",
   "metadata": {},
   "outputs": [
    {
     "data": {
      "text/plain": [
       "Date\n",
       "2021-09-10    2625\n",
       "2021-09-13    2620\n",
       "2021-09-14    2630\n",
       "2021-09-15    2625\n",
       "2021-09-16    2635\n",
       "2021-09-17    2635\n",
       "2021-09-23    2920\n",
       "2021-09-24    2880\n",
       "2021-09-27    2955\n",
       "2021-09-28    2995\n",
       "2021-09-29    2975\n",
       "2021-09-30    3020\n",
       "Name: Close, dtype: int64"
      ]
     },
     "metadata": {},
     "output_type": "display_data"
    }
   ],
   "source": [
    "result = p.search('2021-09-10', '2021-09-30')"
   ]
  },
  {
   "cell_type": "code",
   "execution_count": 19,
   "id": "c9d2fd7c",
   "metadata": {},
   "outputs": [
    {
     "data": {
      "image/png": "[encoded data removed]",
      "text/plain": [
       "<Figure size 432x288 with 1 Axes>"
      ]
     },
     "metadata": {
      "needs_background": "light"
     },
     "output_type": "display_data"
    },
    {
     "data": {
      "text/plain": [
       "Date\n",
       "2006-03-07    0.040917\n",
       "2006-03-08   -0.050551\n",
       "2006-03-09    0.017761\n",
       "2006-03-10   -0.058170\n",
       "2006-03-13   -0.006176\n",
       "Name: Change, dtype: float64"
      ]
     },
     "metadata": {},
     "output_type": "display_data"
    },
    {
     "name": "stdout",
     "output_type": "stream",
     "text": [
      "pred: -1.1243734433432984 % \n"
     ]
    }
   ],
   "source": [
    "p.plot_pattern(2138)"
   ]
  },
  {
   "cell_type": "markdown",
   "id": "5a643054",
   "metadata": {},
   "source": [
    "## 웹으로 만들기"
   ]
  },
  {
   "cell_type": "code",
   "execution_count": 20,
   "id": "b810f904",
   "metadata": {},
   "outputs": [
    {
     "name": "stderr",
     "output_type": "stream",
     "text": [
      "Enabling notebook extension jupyter-js-widgets/extension...\n",
      "      - Validating: ok\n",
      "Enabling: voila\n",
      "- Writing config: c:\\users\\teddy\\anaconda3\\envs\\stock-pattern\\etc\\jupyter\n",
      "    - Validating...\n",
      "      voila 0.2.15 ok\n"
     ]
    }
   ],
   "source": [
    "import ipywidgets as widgets\n",
    "from IPython.display import display, clear_output\n",
    "\n",
    "!jupyter nbextension enable --py widgetsnbextension --sys-prefix\n",
    "!jupyter serverextension enable voila --sys-prefix"
   ]
  },
  {
   "cell_type": "code",
   "execution_count": 21,
   "id": "65e600fb",
   "metadata": {},
   "outputs": [],
   "source": [
    "start_date = widgets.DatePicker(description='시작일')\n",
    "end_date = widgets.DatePicker(description='종료일')"
   ]
  },
  {
   "cell_type": "code",
   "execution_count": 22,
   "id": "26eb490e",
   "metadata": {},
   "outputs": [],
   "source": [
    "# button send\n",
    "search_button = widgets.Button(\n",
    "                description='예측하기',\n",
    "                tooltip='Send',\n",
    "                style={'description_width': 'initial'}\n",
    "            )\n",
    "\n",
    "output = widgets.Output()\n",
    "\n",
    "def on_button_clicked(event):\n",
    "    with output:\n",
    "        clear_output()\n",
    "        p = PatternFinder()\n",
    "        p.set_stock(code.value)\n",
    "        result = p.search(start_date.value.strftime('%Y-%m-%d'), end_date.value.strftime('%Y-%m-%d'))\n",
    "        print(result)\n",
    "        for idx in result.keys():\n",
    "            p.plot_pattern(idx)\n",
    "        \n",
    "search_button.on_click(on_button_clicked)\n",
    "\n",
    "vbox_result = widgets.VBox([search_button, output])"
   ]
  },
  {
   "cell_type": "code",
   "execution_count": 23,
   "id": "d6a7101a",
   "metadata": {},
   "outputs": [],
   "source": [
    "label_headline = widgets.Label(\n",
    "                    value='Photo by CDC on Unsplash',\n",
    "                )\n",
    "\n",
    "vbox_headline = widgets.VBox([label_headline])"
   ]
  },
  {
   "cell_type": "code",
   "execution_count": 24,
   "id": "584eb5a0",
   "metadata": {},
   "outputs": [],
   "source": [
    "text_0 = widgets.HTML(value=\"<h2>종목 코드</h2>\")\n",
    "text_1 = widgets.HTML(value=\"<h2>날짜 선택</h2>\")\n",
    "text_2 = widgets.HTML(value=\"<h2>패턴 예측</h2>\")\n",
    "\n",
    "code = widgets.Text(placeholder='종목코드를 입력해 주세요')\n",
    "code.value = '035720'\n",
    "\n",
    "vbox_0 = widgets.VBox([text_0, code])\n",
    "vbox_1 = widgets.VBox([text_1,start_date, end_date ])\n",
    "vbox_2 = widgets.VBox([text_2, vbox_result])"
   ]
  },
  {
   "cell_type": "code",
   "execution_count": 25,
   "id": "c47a2f76",
   "metadata": {},
   "outputs": [
    {
     "data": {
      "application/vnd.jupyter.widget-view+json": {
       "model_id": "5b4f96be9bdf4db9bb512f242410e2f0",
       "version_major": 2,
       "version_minor": 0
      },
      "text/plain": [
       "VBox(children=(VBox(children=(HTML(value='<h2>종목 코드</h2>'), Text(value='035720', placeholder='종목코드를 입력해 주세요'))…"
      ]
     },
     "metadata": {},
     "output_type": "display_data"
    }
   ],
   "source": [
    "page = widgets.VBox([vbox_0, vbox_1 , vbox_2])\n",
    "display(page)"
   ]
  },
  {
   "cell_type": "code",
   "execution_count": null,
   "id": "570c039d",
   "metadata": {},
   "outputs": [],
   "source": []
  },
  {
   "cell_type": "code",
   "execution_count": null,
   "id": "e528f206",
   "metadata": {},
   "outputs": [],
   "source": []
  }
 ],
 "metadata": {
  "kernelspec": {
   "display_name": "Python 3 (ipykernel)",
   "language": "python",
   "name": "python3"
  },
  "language_info": {
   "codemirror_mode": {
    "name": "ipython",
    "version": 3
   },
   "file_extension": ".py",
   "mimetype": "text/x-python",
   "name": "python",
   "nbconvert_exporter": "python",
   "pygments_lexer": "ipython3",
   "version": "3.7.11"
  }
 },
 "nbformat": 4,
 "nbformat_minor": 5
}
